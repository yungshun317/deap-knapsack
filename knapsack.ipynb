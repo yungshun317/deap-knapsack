{
 "cells": [
  {
   "cell_type": "code",
   "execution_count": 2,
   "id": "f604e7fd",
   "metadata": {},
   "outputs": [],
   "source": [
    "from deap import base, creator, tools, algorithms\n",
    "\n",
    "import random\n",
    "\n",
    "import numpy\n",
    "import matplotlib.pyplot as plt\n",
    "import seaborn as sns\n",
    "\n",
    "import knapsack"
   ]
  },
  {
   "cell_type": "code",
   "execution_count": 3,
   "id": "93c6cfa1",
   "metadata": {},
   "outputs": [],
   "source": [
    "# Problem constants\n",
    "# Create the knapsack problem instance to be used\n",
    "knapsack = knapsack.Knapsack01Problem()"
   ]
  },
  {
   "cell_type": "code",
   "execution_count": 4,
   "id": "62827cd9",
   "metadata": {},
   "outputs": [],
   "source": [
    "# Genetic algorithm constants\n",
    "POPULATION_SIZE = 50\n",
    "# Probability for crossover\n",
    "P_CROSSOVER = 0.9\n",
    "# Probability for mutating an individual\n",
    "P_MUTATION = 0.1\n",
    "MAX_GENERATION = 50\n",
    "HALL_OF_FAME_SIZE = 1"
   ]
  },
  {
   "cell_type": "code",
   "execution_count": null,
   "id": "275a4695",
   "metadata": {},
   "outputs": [],
   "source": []
  }
 ],
 "metadata": {
  "kernelspec": {
   "display_name": "Python 3 (ipykernel)",
   "language": "python",
   "name": "python3"
  },
  "language_info": {
   "codemirror_mode": {
    "name": "ipython",
    "version": 3
   },
   "file_extension": ".py",
   "mimetype": "text/x-python",
   "name": "python",
   "nbconvert_exporter": "python",
   "pygments_lexer": "ipython3",
   "version": "3.8.8"
  }
 },
 "nbformat": 4,
 "nbformat_minor": 5
}
