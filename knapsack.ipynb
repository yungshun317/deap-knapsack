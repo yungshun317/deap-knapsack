{
 "cells": [
  {
   "cell_type": "code",
   "execution_count": 1,
   "id": "f604e7fd",
   "metadata": {},
   "outputs": [],
   "source": [
    "from deap import base, creator, tools, algorithms\n",
    "\n",
    "import random\n",
    "\n",
    "import numpy\n",
    "import matplotlib.pyplot as plt\n",
    "import seaborn as sns\n",
    "\n",
    "import knapsack"
   ]
  },
  {
   "cell_type": "code",
   "execution_count": 2,
   "id": "93c6cfa1",
   "metadata": {},
   "outputs": [],
   "source": [
    "# Problem constants\n",
    "# Create the knapsack problem instance to be used\n",
    "knapsack = knapsack.Knapsack01Problem()"
   ]
  },
  {
   "cell_type": "code",
   "execution_count": 3,
   "id": "bdfde3f1",
   "metadata": {},
   "outputs": [],
   "source": [
    "# Genetic algorithm constants\n",
    "POPULATION_SIZE = 50\n",
    "# Probability for crossover\n",
    "P_CROSSOVER = 0.9\n",
    "# Probability for mutating an individual\n",
    "P_MUTATION = 0.1\n",
    "MAX_GENERATION = 50\n",
    "HALL_OF_FAME_SIZE = 1"
   ]
  },
  {
   "cell_type": "code",
   "execution_count": 4,
   "id": "7289fae4",
   "metadata": {},
   "outputs": [],
   "source": [
    "# Set the random seed\n",
    "RANDOM_SEED = 42\n",
    "random.seed(RANDOM_SEED)"
   ]
  },
  {
   "cell_type": "code",
   "execution_count": 5,
   "id": "dfb5b039",
   "metadata": {},
   "outputs": [],
   "source": [
    "toolbox = base.Toolbox()"
   ]
  },
  {
   "cell_type": "code",
   "execution_count": 6,
   "id": "4d9f0de7",
   "metadata": {},
   "outputs": [],
   "source": [
    "# Create an operator that randomly returns 0 or 1\n",
    "toolbox.register(\"zeroOrOne\", random.randint, 0, 1)"
   ]
  },
  {
   "cell_type": "code",
   "execution_count": 7,
   "id": "6a49b349",
   "metadata": {},
   "outputs": [],
   "source": [
    "# Define a single objective, maximizing fitness strategy\n",
    "creator.create(\"FitnessMax\", base.Fitness, weights=(1.0,))"
   ]
  },
  {
   "cell_type": "code",
   "execution_count": 8,
   "id": "fdbd4ab0",
   "metadata": {},
   "outputs": [],
   "source": [
    "# Create the `Individual` class based on list\n",
    "creator.create(\"Individual\", list, fitness=creator.FitnessMax)"
   ]
  },
  {
   "cell_type": "code",
   "execution_count": 9,
   "id": "abe64788",
   "metadata": {},
   "outputs": [],
   "source": [
    "# Create the individual operator to fill up an `Individual` instance\n",
    "toolbox.register(\"individualCreator\", tools.initRepeat, creator.Individual, toolbox.zeroOrOne, len(knapsack))"
   ]
  },
  {
   "cell_type": "code",
   "execution_count": 10,
   "id": "fcb2f44b",
   "metadata": {},
   "outputs": [],
   "source": [
    "# Create the population operator to generate a list of individuals\n",
    "toolbox.register(\"populationCreator\", tools.initRepeat, list, toolbox.individualCreator)"
   ]
  },
  {
   "cell_type": "code",
   "execution_count": 11,
   "id": "66269c6b",
   "metadata": {},
   "outputs": [],
   "source": [
    "# Fitness calculation\n",
    "def knapsackValue(individual):\n",
    "    # Return a tuple\n",
    "    return knapsack.getValue(individual),\n",
    "\n",
    "toolbox.register(\"evaluate\", knapsackValue)"
   ]
  },
  {
   "cell_type": "code",
   "execution_count": 13,
   "id": "537c739c",
   "metadata": {},
   "outputs": [],
   "source": [
    "# Genetic operator\n",
    "# Tournament selection with tournament size of 3\n",
    "toolbox.register(\"select\", tools.selTournament, tournsize=3)"
   ]
  },
  {
   "cell_type": "code",
   "execution_count": null,
   "id": "1123b935",
   "metadata": {},
   "outputs": [],
   "source": [
    "# Single point crossover\n",
    "toolbox.register(\"mate\", tools.cxTwoPoint)"
   ]
  },
  {
   "cell_type": "code",
   "execution_count": 14,
   "id": "28208f10",
   "metadata": {},
   "outputs": [],
   "source": [
    "# Flip bit mutation\n",
    "toolbox.register(\"mutate\", tools.mutFlipBit, indpb=1.0/len(knapsack))"
   ]
  },
  {
   "cell_type": "code",
   "execution_count": null,
   "id": "d202b90b",
   "metadata": {},
   "outputs": [],
   "source": [
    "# Genetic algorithm flow\n",
    "def main():\n",
    "    \n",
    "    # Create initial population (generation 0)\n",
    "    population = toolbox.populationCreator(n=POPULATION_SIZE)\n",
    "    \n",
    "    # Prepare the statisitics object\n",
    "    stats = tools.Statistics(lambda ind: ind.fitness.values)\n",
    "    stats.register(\"max\", numpy.max)\n",
    "    stats.register(\"avg\", numpy.mean)\n",
    "    \n",
    "    # Define the hall-of-fame object\n",
    "    hof = tools.HallOfFame(HALL_OF_FAME_SIZE)"
   ]
  }
 ],
 "metadata": {
  "kernelspec": {
   "display_name": "Python 3 (ipykernel)",
   "language": "python",
   "name": "python3"
  },
  "language_info": {
   "codemirror_mode": {
    "name": "ipython",
    "version": 3
   },
   "file_extension": ".py",
   "mimetype": "text/x-python",
   "name": "python",
   "nbconvert_exporter": "python",
   "pygments_lexer": "ipython3",
   "version": "3.8.8"
  }
 },
 "nbformat": 4,
 "nbformat_minor": 5
}
