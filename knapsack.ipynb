{
 "cells": [
  {
   "cell_type": "code",
   "execution_count": 1,
   "id": "f604e7fd",
   "metadata": {},
   "outputs": [],
   "source": [
    "from deap import base, creator, tools, algorithms\n",
    "\n",
    "import random\n",
    "\n",
    "import numpy\n",
    "import matplotlib.pyplot as plt\n",
    "import seaborn as sns\n",
    "\n",
    "import knapsack"
   ]
  },
  {
   "cell_type": "code",
   "execution_count": 2,
   "id": "93c6cfa1",
   "metadata": {},
   "outputs": [],
   "source": [
    "# Problem constants\n",
    "# Create the knapsack problem instance to be used\n",
    "knapsack = knapsack.Knapsack01Problem()"
   ]
  },
  {
   "cell_type": "code",
   "execution_count": 3,
   "id": "fb81f48f",
   "metadata": {},
   "outputs": [],
   "source": [
    "# Genetic algorithm constants\n",
    "POPULATION_SIZE = 50\n",
    "# Probability for crossover\n",
    "P_CROSSOVER = 0.9\n",
    "# Probability for mutating an individual\n",
    "P_MUTATION = 0.1\n",
    "MAX_GENERATION = 50\n",
    "HALL_OF_FAME_SIZE = 1"
   ]
  },
  {
   "cell_type": "code",
   "execution_count": 4,
   "id": "9f98bba4",
   "metadata": {},
   "outputs": [],
   "source": [
    "# Set the random seed\n",
    "RANDOM_SEED = 42\n",
    "random.seed(RANDOM_SEED)"
   ]
  },
  {
   "cell_type": "code",
   "execution_count": 5,
   "id": "136b2f3b",
   "metadata": {},
   "outputs": [],
   "source": [
    "toolbox = base.Toolbox()"
   ]
  },
  {
   "cell_type": "code",
   "execution_count": 6,
   "id": "a63a5cfb",
   "metadata": {},
   "outputs": [],
   "source": [
    "# Create an operator that randomly returns 0 or 1\n",
    "toolbox.register(\"zeroOrOne\", random.randint, 0, 1)"
   ]
  },
  {
   "cell_type": "code",
   "execution_count": 7,
   "id": "15027913",
   "metadata": {},
   "outputs": [],
   "source": [
    "# Define a single objective, maximizing fitness strategy\n",
    "creator.create(\"FitnessMax\", base.Fitness, weights=(1.0,))"
   ]
  },
  {
   "cell_type": "code",
   "execution_count": 8,
   "id": "10418477",
   "metadata": {},
   "outputs": [],
   "source": [
    "# Create the `Individual` class based on list\n",
    "creator.create(\"Individual\", list, fitness=creator.FitnessMax)"
   ]
  },
  {
   "cell_type": "code",
   "execution_count": 9,
   "id": "b9ec8d97",
   "metadata": {},
   "outputs": [],
   "source": [
    "# Create the individual operator to fill up an `Individual` instance\n",
    "toolbox.register(\"individualCreator\", tools.initRepeat, creator.Individual, toolbox.zeroOrOne, len(knapsack))"
   ]
  },
  {
   "cell_type": "code",
   "execution_count": 10,
   "id": "90e573b0",
   "metadata": {},
   "outputs": [],
   "source": [
    "# Create the population operator to generate a list of individuals\n",
    "toolbox.register(\"populationCreator\", tools.initRepeat, list, toolbox.individualCreator)"
   ]
  },
  {
   "cell_type": "code",
   "execution_count": null,
   "id": "25e89ea2",
   "metadata": {},
   "outputs": [],
   "source": []
  }
 ],
 "metadata": {
  "kernelspec": {
   "display_name": "Python 3 (ipykernel)",
   "language": "python",
   "name": "python3"
  },
  "language_info": {
   "codemirror_mode": {
    "name": "ipython",
    "version": 3
   },
   "file_extension": ".py",
   "mimetype": "text/x-python",
   "name": "python",
   "nbconvert_exporter": "python",
   "pygments_lexer": "ipython3",
   "version": "3.8.8"
  }
 },
 "nbformat": 4,
 "nbformat_minor": 5
}
